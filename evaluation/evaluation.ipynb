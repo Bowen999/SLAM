{
 "cells": [
  {
   "cell_type": "markdown",
   "id": "bd035f52",
   "metadata": {},
   "source": [
    "数据描述: https://github.com/Bowen999/SLAM/blob/main/datasets/README.md  \n",
    "test_set(目前不考虑test_set2）：用于测试forward model和reverse model  \n",
    "\n",
    "Forward: Structure --> MS2  \n",
    "Reverse: MS2 --> Structure  "
   ]
  },
  {
   "cell_type": "markdown",
   "id": "50a91e19",
   "metadata": {},
   "source": [
    "# Package needed"
   ]
  },
  {
   "cell_type": "code",
   "execution_count": 1,
   "id": "9f5684da",
   "metadata": {},
   "outputs": [],
   "source": [
    "from rdkit import Chem\n",
    "from rdkit.Chem import AllChem, DataStructs\n",
    "from rdkit.Chem import SDWriter\n",
    "\n",
    "import numpy as np\n",
    "import ms_entropy as me\n",
    "import matplotlib.pyplot as plt\n",
    "import numpy as np\n",
    "\n",
    "import numpy as np\n",
    "import ms_entropy as me\n",
    "import matplotlib.pyplot as plt\n",
    "import numpy as np\n",
    "import spectral_entropy # How to download: https://github.com/YuanyueLi/SpectralEntropy/blob/master/example.ipynb, \n",
    "                        # after generate spectral_entropy folder, need to move it to the correct path"
   ]
  },
  {
   "cell_type": "markdown",
   "id": "69c77a5c",
   "metadata": {},
   "source": [
    "# 1 Forward"
   ]
  },
  {
   "cell_type": "markdown",
   "id": "a2156786",
   "metadata": {},
   "source": [
    "### 1.1 Input  \n",
    "Input structure have more than one format, including **SMILES, InChIKey, .sdf file**...  \n",
    "But they can be coverted to (almost) any other format using RDKit"
   ]
  },
  {
   "cell_type": "markdown",
   "id": "de9df5a0",
   "metadata": {},
   "source": [
    "#### smiles to sdf"
   ]
  },
  {
   "cell_type": "code",
   "execution_count": 2,
   "id": "dcc73f84",
   "metadata": {},
   "outputs": [],
   "source": [
    "def smiles_to_sdf(smiles: str, output_sdf_path: str):\n",
    "    \"\"\"\n",
    "    Converts a SMILES string to an SDF file.\n",
    "\n",
    "    Args:\n",
    "        smiles (str): The SMILES string of the molecule.\n",
    "        output_sdf_path (str): The path where the output SDF file will be saved.\n",
    "    \"\"\"\n",
    "    # Convert SMILES to molecule\n",
    "    mol = Chem.MolFromSmiles(smiles)\n",
    "    if mol is None:\n",
    "        raise ValueError(\"Invalid SMILES string provided.\")\n",
    "\n",
    "    # Add hydrogens\n",
    "    mol = Chem.AddHs(mol)\n",
    "\n",
    "    # Generate 3D coordinates\n",
    "    AllChem.EmbedMolecule(mol, AllChem.ETKDG())\n",
    "\n",
    "    # Write molecule to SDF\n",
    "    writer = Chem.SDWriter(output_sdf_path)\n",
    "    writer.write(mol)\n",
    "    writer.close()\n",
    "\n",
    "    print(f\"SDF file successfully written to: {output_sdf_path}\")"
   ]
  },
  {
   "cell_type": "code",
   "execution_count": 3,
   "id": "8a2803a5",
   "metadata": {},
   "outputs": [
    {
     "name": "stdout",
     "output_type": "stream",
     "text": [
      "SDF file successfully written to: output.sdf\n"
     ]
    }
   ],
   "source": [
    "smiles_to_sdf('CN1CC(=O)N=C1N', 'output.sdf')"
   ]
  },
  {
   "cell_type": "markdown",
   "id": "ab3eba2c",
   "metadata": {},
   "source": [
    "#### sdf to smiles"
   ]
  },
  {
   "cell_type": "code",
   "execution_count": 4,
   "id": "cb0db247",
   "metadata": {},
   "outputs": [],
   "source": [
    "def sdf_to_smiles(input_sdf_path: str):\n",
    "    \"\"\"\n",
    "    Reads the first valid molecule from an SDF file and returns its SMILES string.\n",
    "\n",
    "    Args:\n",
    "        input_sdf_path (str): The path to the input SDF file.\n",
    "\n",
    "    Returns:\n",
    "        str: The SMILES string of the first valid molecule.\n",
    "    \"\"\"\n",
    "    supplier = Chem.SDMolSupplier(input_sdf_path)\n",
    "    \n",
    "    for mol in supplier:\n",
    "        if mol is not None:\n",
    "            smiles = Chem.MolToSmiles(mol)\n",
    "            return smiles\n",
    "\n",
    "    raise ValueError(\"No valid molecules found in the SDF file.\")"
   ]
  },
  {
   "cell_type": "code",
   "execution_count": 5,
   "id": "f8e1d27c",
   "metadata": {},
   "outputs": [
    {
     "name": "stdout",
     "output_type": "stream",
     "text": [
      "CN1CC(=O)N=C1N\n"
     ]
    }
   ],
   "source": [
    "smiles = sdf_to_smiles('input.sdf')\n",
    "print(smiles)"
   ]
  },
  {
   "cell_type": "markdown",
   "id": "e04775c2",
   "metadata": {},
   "source": [
    "### 1.2 Output\n",
    "* Some scores can be used for comparing MS2 similarity, in there, we use:\n",
    "* Unweighted entropy similarity\n",
    "* Entropy similarity\n",
    "* Dot product"
   ]
  },
  {
   "cell_type": "code",
   "execution_count": 6,
   "id": "cbea5687",
   "metadata": {},
   "outputs": [],
   "source": [
    "peaks_query = [[400, 100]]\n",
    "peaks_reference =[[100, 82],[200, 50],[300, 80],[400, 100], [500, 10], [600, 10], [700, 10], [60, 10]]\n",
    "\n",
    "peaks_query = np.array(peaks_query, dtype=np.float32)\n",
    "peaks_reference = np.array(peaks_reference, dtype=np.float32)"
   ]
  },
  {
   "cell_type": "code",
   "execution_count": 7,
   "id": "7d544841",
   "metadata": {},
   "outputs": [
    {
     "name": "stdout",
     "output_type": "stream",
     "text": [
      "Unweighted entropy similarity: 0.4895104169845581.\n",
      "Entropy similarity: 0.4374931752681732.\n",
      "dot_product: 0.6198876217728473.\n",
      "weighted_dot_product: 0.5054086081198067.\n"
     ]
    }
   ],
   "source": [
    "# Calculate unweighted entropy similarity.\n",
    "unweighted_similarity = me.calculate_unweighted_entropy_similarity(peaks_query, peaks_reference, ms2_tolerance_in_da = 0.05)\n",
    "print(f\"Unweighted entropy similarity: {unweighted_similarity}.\")\n",
    "\n",
    "# Calculate entropy similarity.\n",
    "similarity = me.calculate_entropy_similarity(peaks_query, peaks_reference, ms2_tolerance_in_da = 0.05)\n",
    "print(f\"Entropy similarity: {similarity}.\")\n",
    "\n",
    "# Dot product\n",
    "similarity = spectral_entropy.similarity(peaks_query, peaks_reference, method=\"dot_product\", ms2_da=0.05)\n",
    "print(\"dot_product: {}.\".format(similarity))\n",
    "similarity = spectral_entropy.similarity(peaks_query, peaks_reference, method=\"weighted_dot_product\", ms2_da=0.05)\n",
    "print(\"weighted_dot_product: {}.\".format(similarity))"
   ]
  },
  {
   "cell_type": "markdown",
   "id": "d03eda32",
   "metadata": {},
   "source": [
    "#### Plot (if you want, but not necessary)"
   ]
  },
  {
   "cell_type": "code",
   "execution_count": 8,
   "id": "fec79a74",
   "metadata": {},
   "outputs": [
    {
     "name": "stderr",
     "output_type": "stream",
     "text": [
      "/var/folders/q1/mfxy01nj293b7bbnnhjkt_6w0000gn/T/ipykernel_49988/1455150799.py:41: UserWarning: set_ticklabels() should only be used with a fixed number of ticks, i.e. after set_ticks() or using a FixedLocator.\n",
      "  plt.gca().set_yticklabels(new_yticks)  # Set the new y-tick labels\n"
     ]
    },
    {
     "data": {
      "image/png": "[encoded data removed]",
      "text/plain": [
       "<Figure size 1000x600 with 1 Axes>"
      ]
     },
     "metadata": {},
     "output_type": "display_data"
    }
   ],
   "source": [
    "### Line size \n",
    "num_peaks = max(len(peaks_query), len(peaks_reference))\n",
    "line_size = (10 / num_peaks) * 6\n",
    "line_size = max(1.7, min(3, line_size))\n",
    "\n",
    "\n",
    "### Determine the x and y ranges\n",
    "x_min = min(peaks_query[:, 0].min(), peaks_reference[:, 0].min())\n",
    "x_max = max(peaks_query[:, 0].max(), peaks_reference[:, 0].max())\n",
    "\n",
    "y_max_query = peaks_query[:, 1].max()\n",
    "y_max_reference = peaks_reference[:, 1].max()\n",
    "\n",
    "y_min = -max(y_max_query, y_max_reference) * 1.3\n",
    "y_max = max(y_max_query, y_max_reference) * 1.3\n",
    "\n",
    "\n",
    "\n",
    "\n",
    "#### Plotting with specified stem size and annotations\n",
    "plt.figure(figsize=(10, 6))\n",
    "query_stem = plt.stem(peaks_query[:, 0], peaks_query[:, 1], linefmt='#3795BD', basefmt=\" \", label='Query', markerfmt=' ')\n",
    "reference_stem = plt.stem(peaks_reference[:, 0], -peaks_reference[:, 1], linefmt='#9BB0C1', basefmt=\" \", label='Reference', markerfmt=' ')\n",
    "\n",
    "# Add labels and title\n",
    "plt.xlabel(\"m/z\")\n",
    "plt.ylabel(\"Intensity\")\n",
    "\n",
    "# Apply the x and y ranges\n",
    "plt.ylim([y_min, y_max])\n",
    "plt.xlim([x_min - 5, x_max + 5])\n",
    "\n",
    "plt.axhline(0, color='gray', lw=1)\n",
    "\n",
    "# Set stem size to 2\n",
    "plt.setp(query_stem, linewidth=line_size)\n",
    "plt.setp(reference_stem, linewidth=line_size)\n",
    "\n",
    "yticks = plt.gca().get_yticks()  # Get current y-tick values\n",
    "new_yticks = [abs(tick) if tick < 0 else tick for tick in yticks]  # Make negative ticks positive\n",
    "plt.gca().set_yticklabels(new_yticks)  # Set the new y-tick labels\n",
    "\n",
    "\n",
    "threshold_query = 0.8 * peaks_query[:, 1].max()\n",
    "threshold_reference = 0.8 * peaks_reference[:, 1].max()\n",
    "\n",
    "\n",
    "# Show the plot\n",
    "plt.grid(False)\n",
    "plt.show()"
   ]
  },
  {
   "cell_type": "markdown",
   "id": "0e9c5e1e",
   "metadata": {},
   "source": [
    "# 2 Reverse"
   ]
  },
  {
   "cell_type": "markdown",
   "id": "bd9de90b",
   "metadata": {},
   "source": [
    "### 2.1 Input"
   ]
  },
  {
   "cell_type": "code",
   "execution_count": null,
   "id": "1d8d71f6",
   "metadata": {},
   "outputs": [],
   "source": [
    "peaks_query = [[400, 100]]\n",
    "peaks_reference =[[100, 82],[200, 50],[300, 80],[400, 100], [500, 10], [600, 10], [700, 10], [60, 10]]\n",
    "\n",
    "peaks_query = np.array(peaks_query, dtype=np.float32)\n",
    "peaks_reference = np.array(peaks_reference, dtype=np.float32)"
   ]
  },
  {
   "cell_type": "markdown",
   "id": "1317456f",
   "metadata": {},
   "source": [
    "### 2.2 Output\n",
    "For output lipid structure, we have two way to compare:\n",
    "* 1: compare SMILES directly, by calculating **tanimoto similarity**\n",
    "* 2: convert to InChIKey, see if the first block are 100% same"
   ]
  },
  {
   "cell_type": "markdown",
   "id": "76a3cc3c",
   "metadata": {},
   "source": [
    "#### tanimoto similarity"
   ]
  },
  {
   "cell_type": "code",
   "execution_count": null,
   "id": "618709de",
   "metadata": {},
   "outputs": [],
   "source": [
    "def smiles_tanimoto(smiles1: str, smiles2: str) -> float:\n",
    "    \"\"\"\n",
    "    Calculates the Tanimoto similarity between two SMILES strings.\n",
    "\n",
    "    Args:\n",
    "        smiles1 (str): The first SMILES string.\n",
    "        smiles2 (str): The second SMILES string.\n",
    "\n",
    "    Returns:\n",
    "        float: Tanimoto similarity score between 0 and 1.\n",
    "    \"\"\"\n",
    "    # Convert SMILES to molecules\n",
    "    mol1 = Chem.MolFromSmiles(smiles1)\n",
    "    mol2 = Chem.MolFromSmiles(smiles2)\n",
    "\n",
    "    if mol1 is None or mol2 is None:\n",
    "        raise ValueError(\"Invalid SMILES string provided.\")\n",
    "\n",
    "    # Generate fingerprints\n",
    "    fp1 = AllChem.GetMorganFingerprintAsBitVect(mol1, radius=2, nBits=2048)\n",
    "    fp2 = AllChem.GetMorganFingerprintAsBitVect(mol2, radius=2, nBits=2048)\n",
    "\n",
    "    # Calculate Tanimoto similarity\n",
    "    similarity = DataStructs.TanimotoSimilarity(fp1, fp2)\n",
    "\n",
    "    return similarity"
   ]
  },
  {
   "cell_type": "code",
   "execution_count": null,
   "id": "a77c7079",
   "metadata": {},
   "outputs": [],
   "source": [
    "sim = smiles_tanimoto('CN(CC(=O)O)C(=N)N', 'CN1CC(=O)N=C1N')\n",
    "print(sim)"
   ]
  },
  {
   "cell_type": "markdown",
   "id": "a4b35286",
   "metadata": {},
   "source": [
    "#### InChIkey"
   ]
  },
  {
   "cell_type": "code",
   "execution_count": null,
   "id": "f9ad88aa",
   "metadata": {},
   "outputs": [],
   "source": [
    "# SMILES to InChI Key first Block\n",
    "\n",
    "def get_inchikey_first_block(smiles):\n",
    "    \"\"\"Get the first block of InChIKey from a SMILES string.\"\"\"\n",
    "    mol = Chem.MolFromSmiles(smiles)\n",
    "    if mol is not None:\n",
    "        inchikey = Chem.inchi.MolToInchiKey(mol)\n",
    "        first_block = inchikey.split('-')[0]\n",
    "        return first_block\n",
    "    else:\n",
    "        return None"
   ]
  },
  {
   "cell_type": "code",
   "execution_count": null,
   "id": "ce30d4cc",
   "metadata": {},
   "outputs": [],
   "source": [
    "first_block = get_inchikey_first_block('CN1CC(=O)N=C1N')\n",
    "print(first_block)"
   ]
  },
  {
   "cell_type": "code",
   "execution_count": 29,
   "id": "7bbfb927",
   "metadata": {},
   "outputs": [],
   "source": [
    "def compare_strings(s1: str, s2: str) -> str:\n",
    "    \"\"\"\n",
    "    Compares two strings of 14 characters.\n",
    "    \n",
    "    Args:\n",
    "        s1 (str): First string.\n",
    "        s2 (str): Second string.\n",
    "\n",
    "    Returns:\n",
    "        str: 'y' if they are exactly the same and 14 characters long, otherwise 'n'.\n",
    "    \"\"\"\n",
    "    if len(s1) == 14 and len(s2) == 14:\n",
    "        if s1 == s2:\n",
    "            return 'Y'\n",
    "        else:\n",
    "            return 'N'\n",
    "    else:\n",
    "        return 'Not Avaiable, please check the input value'"
   ]
  },
  {
   "cell_type": "code",
   "execution_count": 32,
   "id": "a589025d",
   "metadata": {},
   "outputs": [
    {
     "data": {
      "text/plain": [
       "'N'"
      ]
     },
     "execution_count": 32,
     "metadata": {},
     "output_type": "execute_result"
    }
   ],
   "source": [
    "compare_strings('DDRJAANPRJIHGJ', 'CVSVTCORWBXHQV')"
   ]
  },
  {
   "cell_type": "code",
   "execution_count": null,
   "id": "99c2d796",
   "metadata": {},
   "outputs": [],
   "source": []
  },
  {
   "cell_type": "code",
   "execution_count": 2,
   "id": "68a36af8",
   "metadata": {},
   "outputs": [],
   "source": []
  },
  {
   "cell_type": "code",
   "execution_count": 3,
   "id": "c09b90be",
   "metadata": {},
   "outputs": [],
   "source": []
  },
  {
   "cell_type": "code",
   "execution_count": 6,
   "id": "5f4442b7",
   "metadata": {},
   "outputs": [
    {
     "name": "stderr",
     "output_type": "stream",
     "text": [
      "/var/folders/q1/mfxy01nj293b7bbnnhjkt_6w0000gn/T/ipykernel_49245/2608430183.py:42: UserWarning: set_ticklabels() should only be used with a fixed number of ticks, i.e. after set_ticks() or using a FixedLocator.\n",
      "  plt.gca().set_yticklabels(new_yticks)  # Set the new y-tick labels\n"
     ]
    },
    {
     "data": {
      "image/png": "[encoded data removed]",
      "text/plain": [
       "<Figure size 1000x600 with 1 Axes>"
      ]
     },
     "metadata": {},
     "output_type": "display_data"
    }
   ],
   "source": []
  }
 ],
 "metadata": {
  "kernelspec": {
   "display_name": "Python 3 (ipykernel)",
   "language": "python",
   "name": "python3"
  },
  "language_info": {
   "codemirror_mode": {
    "name": "ipython",
    "version": 3
   },
   "file_extension": ".py",
   "mimetype": "text/x-python",
   "name": "python",
   "nbconvert_exporter": "python",
   "pygments_lexer": "ipython3",
   "version": "3.12.7"
  }
 },
 "nbformat": 4,
 "nbformat_minor": 5
}
